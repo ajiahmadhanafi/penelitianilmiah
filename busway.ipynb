{
 "cells": [
  {
   "cell_type": "code",
   "execution_count": 196,
   "id": "4f6a26b7",
   "metadata": {},
   "outputs": [],
   "source": [
    "import numpy as np\n",
    "from sklearn.cluster import KMeans\n",
    "import pandas as pd\n",
    "import seaborn as sns\n",
    "from sklearn.preprocessing import MinMaxScaler\n",
    "from matplotlib import pyplot as plt\n",
    "from sklearn.preprocessing import LabelEncoder\n",
    "%matplotlib inline "
   ]
  },
  {
   "attachments": {},
   "cell_type": "markdown",
   "id": "1c29802f",
   "metadata": {},
   "source": [
    "## DATA MINING JUMLAH PENUMPANG BUSWAY TRANSJAKARTA MENGGUNAKAN ALGORITMA K-MEANS CLUSTERING"
   ]
  },
  {
   "cell_type": "code",
   "execution_count": 197,
   "id": "3412e502",
   "metadata": {},
   "outputs": [],
   "source": [
    "import numpy as np\n",
    "from sklearn.cluster import KMeans\n",
    "import pandas as pd\n",
    "import seaborn as sns\n",
    "from sklearn.preprocessing import MinMaxScaler\n",
    "from matplotlib import pyplot as plt\n",
    "from sklearn.preprocessing import LabelEncoder\n",
    "%matplotlib inline "
   ]
  },
  {
   "cell_type": "code",
   "execution_count": 198,
   "id": "d044abb0",
   "metadata": {},
   "outputs": [],
   "source": [
    "df = pd.read_excel('jumlahpenumpang.xlsx')"
   ]
  },
  {
   "cell_type": "code",
   "execution_count": 199,
   "id": "6058e562",
   "metadata": {},
   "outputs": [
    {
     "data": {
      "text/html": [
       "<div>\n",
       "<style scoped>\n",
       "    .dataframe tbody tr th:only-of-type {\n",
       "        vertical-align: middle;\n",
       "    }\n",
       "\n",
       "    .dataframe tbody tr th {\n",
       "        vertical-align: top;\n",
       "    }\n",
       "\n",
       "    .dataframe thead th {\n",
       "        text-align: right;\n",
       "    }\n",
       "</style>\n",
       "<table border=\"1\" class=\"dataframe\">\n",
       "  <thead>\n",
       "    <tr style=\"text-align: right;\">\n",
       "      <th></th>\n",
       "      <th>Koridor</th>\n",
       "      <th>2019</th>\n",
       "      <th>2020</th>\n",
       "    </tr>\n",
       "  </thead>\n",
       "  <tbody>\n",
       "    <tr>\n",
       "      <th>0</th>\n",
       "      <td>Koridor I (Blok M-Kota)</td>\n",
       "      <td>28703262</td>\n",
       "      <td>13114712</td>\n",
       "    </tr>\n",
       "    <tr>\n",
       "      <th>1</th>\n",
       "      <td>Koridor II (Pulo Gadung-Harmoni)</td>\n",
       "      <td>9569953</td>\n",
       "      <td>4788613</td>\n",
       "    </tr>\n",
       "    <tr>\n",
       "      <th>2</th>\n",
       "      <td>Koridor III (Kalideres-Pasar Baru)</td>\n",
       "      <td>12809507</td>\n",
       "      <td>6685591</td>\n",
       "    </tr>\n",
       "    <tr>\n",
       "      <th>3</th>\n",
       "      <td>Koridor IV (Pulo Gadung 2-Dukuh Atas)</td>\n",
       "      <td>9221017</td>\n",
       "      <td>4103583</td>\n",
       "    </tr>\n",
       "    <tr>\n",
       "      <th>4</th>\n",
       "      <td>Koridor V (Kp. Melayu-Ancol)</td>\n",
       "      <td>12329691</td>\n",
       "      <td>5959530</td>\n",
       "    </tr>\n",
       "    <tr>\n",
       "      <th>5</th>\n",
       "      <td>Koridor VI (Ragunan-Dukuh Atas 2)</td>\n",
       "      <td>12051594</td>\n",
       "      <td>5526020</td>\n",
       "    </tr>\n",
       "    <tr>\n",
       "      <th>6</th>\n",
       "      <td>Koridor VII (Kp. Rambutan-Kp. Melayu)</td>\n",
       "      <td>11558274</td>\n",
       "      <td>5330683</td>\n",
       "    </tr>\n",
       "    <tr>\n",
       "      <th>7</th>\n",
       "      <td>Koridor VIII (Lebak Bulus-Harmoni)</td>\n",
       "      <td>12504656</td>\n",
       "      <td>6288549</td>\n",
       "    </tr>\n",
       "    <tr>\n",
       "      <th>8</th>\n",
       "      <td>Koridor IX (Pinang Ranti-Pluit)</td>\n",
       "      <td>17527958</td>\n",
       "      <td>6288549</td>\n",
       "    </tr>\n",
       "    <tr>\n",
       "      <th>9</th>\n",
       "      <td>Koridor X (PGC 2-Tanjung Priok)</td>\n",
       "      <td>9960874</td>\n",
       "      <td>5545169</td>\n",
       "    </tr>\n",
       "    <tr>\n",
       "      <th>10</th>\n",
       "      <td>Koridor XI (Kp. Melayu-Pulo Gebang)</td>\n",
       "      <td>3875702</td>\n",
       "      <td>2040909</td>\n",
       "    </tr>\n",
       "    <tr>\n",
       "      <th>11</th>\n",
       "      <td>Koridor XII (Penjaringan-Tanjung Priok)</td>\n",
       "      <td>3012110</td>\n",
       "      <td>1898532</td>\n",
       "    </tr>\n",
       "    <tr>\n",
       "      <th>12</th>\n",
       "      <td>Koridor XIII (Puri Beta-Tendean)</td>\n",
       "      <td>8825641</td>\n",
       "      <td>4289675</td>\n",
       "    </tr>\n",
       "    <tr>\n",
       "      <th>13</th>\n",
       "      <td>Jumlah</td>\n",
       "      <td>37528903</td>\n",
       "      <td>17404387</td>\n",
       "    </tr>\n",
       "  </tbody>\n",
       "</table>\n",
       "</div>"
      ],
      "text/plain": [
       "                                    Koridor      2019      2020\n",
       "0                   Koridor I (Blok M-Kota)  28703262  13114712\n",
       "1          Koridor II (Pulo Gadung-Harmoni)   9569953   4788613\n",
       "2        Koridor III (Kalideres-Pasar Baru)  12809507   6685591\n",
       "3     Koridor IV (Pulo Gadung 2-Dukuh Atas)   9221017   4103583\n",
       "4              Koridor V (Kp. Melayu-Ancol)  12329691   5959530\n",
       "5         Koridor VI (Ragunan-Dukuh Atas 2)  12051594   5526020\n",
       "6     Koridor VII (Kp. Rambutan-Kp. Melayu)  11558274   5330683\n",
       "7        Koridor VIII (Lebak Bulus-Harmoni)  12504656   6288549\n",
       "8           Koridor IX (Pinang Ranti-Pluit)  17527958   6288549\n",
       "9           Koridor X (PGC 2-Tanjung Priok)   9960874   5545169\n",
       "10      Koridor XI (Kp. Melayu-Pulo Gebang)   3875702   2040909\n",
       "11  Koridor XII (Penjaringan-Tanjung Priok)   3012110   1898532\n",
       "12         Koridor XIII (Puri Beta-Tendean)   8825641   4289675\n",
       "13                                   Jumlah  37528903  17404387"
      ]
     },
     "execution_count": 199,
     "metadata": {},
     "output_type": "execute_result"
    }
   ],
   "source": [
    "df.head(15)"
   ]
  },
  {
   "cell_type": "code",
   "execution_count": 200,
   "id": "6ae31389",
   "metadata": {},
   "outputs": [
    {
     "data": {
      "text/plain": [
       "<matplotlib.collections.PathCollection at 0x26eb8f9c190>"
      ]
     },
     "execution_count": 200,
     "metadata": {},
     "output_type": "execute_result"
    },
    {
     "data": {
      "image/png": "[encoded data removed]",
      "text/plain": [
       "<Figure size 432x288 with 1 Axes>"
      ]
     },
     "metadata": {
      "needs_background": "light"
     },
     "output_type": "display_data"
    }
   ],
   "source": [
    "plt.scatter(df[2019], df[2020])"
   ]
  },
  {
   "cell_type": "code",
   "execution_count": 201,
   "id": "8e24a73a",
   "metadata": {},
   "outputs": [
    {
     "data": {
      "text/html": [
       "<style>#sk-container-id-12 {color: black;background-color: white;}#sk-container-id-12 pre{padding: 0;}#sk-container-id-12 div.sk-toggleable {background-color: white;}#sk-container-id-12 label.sk-toggleable__label {cursor: pointer;display: block;width: 100%;margin-bottom: 0;padding: 0.3em;box-sizing: border-box;text-align: center;}#sk-container-id-12 label.sk-toggleable__label-arrow:before {content: \"▸\";float: left;margin-right: 0.25em;color: #696969;}#sk-container-id-12 label.sk-toggleable__label-arrow:hover:before {color: black;}#sk-container-id-12 div.sk-estimator:hover label.sk-toggleable__label-arrow:before {color: black;}#sk-container-id-12 div.sk-toggleable__content {max-height: 0;max-width: 0;overflow: hidden;text-align: left;background-color: #f0f8ff;}#sk-container-id-12 div.sk-toggleable__content pre {margin: 0.2em;color: black;border-radius: 0.25em;background-color: #f0f8ff;}#sk-container-id-12 input.sk-toggleable__control:checked~div.sk-toggleable__content {max-height: 200px;max-width: 100%;overflow: auto;}#sk-container-id-12 input.sk-toggleable__control:checked~label.sk-toggleable__label-arrow:before {content: \"▾\";}#sk-container-id-12 div.sk-estimator input.sk-toggleable__control:checked~label.sk-toggleable__label {background-color: #d4ebff;}#sk-container-id-12 div.sk-label input.sk-toggleable__control:checked~label.sk-toggleable__label {background-color: #d4ebff;}#sk-container-id-12 input.sk-hidden--visually {border: 0;clip: rect(1px 1px 1px 1px);clip: rect(1px, 1px, 1px, 1px);height: 1px;margin: -1px;overflow: hidden;padding: 0;position: absolute;width: 1px;}#sk-container-id-12 div.sk-estimator {font-family: monospace;background-color: #f0f8ff;border: 1px dotted black;border-radius: 0.25em;box-sizing: border-box;margin-bottom: 0.5em;}#sk-container-id-12 div.sk-estimator:hover {background-color: #d4ebff;}#sk-container-id-12 div.sk-parallel-item::after {content: \"\";width: 100%;border-bottom: 1px solid gray;flex-grow: 1;}#sk-container-id-12 div.sk-label:hover label.sk-toggleable__label {background-color: #d4ebff;}#sk-container-id-12 div.sk-serial::before {content: \"\";position: absolute;border-left: 1px solid gray;box-sizing: border-box;top: 0;bottom: 0;left: 50%;z-index: 0;}#sk-container-id-12 div.sk-serial {display: flex;flex-direction: column;align-items: center;background-color: white;padding-right: 0.2em;padding-left: 0.2em;position: relative;}#sk-container-id-12 div.sk-item {position: relative;z-index: 1;}#sk-container-id-12 div.sk-parallel {display: flex;align-items: stretch;justify-content: center;background-color: white;position: relative;}#sk-container-id-12 div.sk-item::before, #sk-container-id-12 div.sk-parallel-item::before {content: \"\";position: absolute;border-left: 1px solid gray;box-sizing: border-box;top: 0;bottom: 0;left: 50%;z-index: -1;}#sk-container-id-12 div.sk-parallel-item {display: flex;flex-direction: column;z-index: 1;position: relative;background-color: white;}#sk-container-id-12 div.sk-parallel-item:first-child::after {align-self: flex-end;width: 50%;}#sk-container-id-12 div.sk-parallel-item:last-child::after {align-self: flex-start;width: 50%;}#sk-container-id-12 div.sk-parallel-item:only-child::after {width: 0;}#sk-container-id-12 div.sk-dashed-wrapped {border: 1px dashed gray;margin: 0 0.4em 0.5em 0.4em;box-sizing: border-box;padding-bottom: 0.4em;background-color: white;}#sk-container-id-12 div.sk-label label {font-family: monospace;font-weight: bold;display: inline-block;line-height: 1.2em;}#sk-container-id-12 div.sk-label-container {text-align: center;}#sk-container-id-12 div.sk-container {/* jupyter's `normalize.less` sets `[hidden] { display: none; }` but bootstrap.min.css set `[hidden] { display: none !important; }` so we also need the `!important` here to be able to override the default hidden behavior on the sphinx rendered scikit-learn.org. See: https://github.com/scikit-learn/scikit-learn/issues/21755 */display: inline-block !important;position: relative;}#sk-container-id-12 div.sk-text-repr-fallback {display: none;}</style><div id=\"sk-container-id-12\" class=\"sk-top-container\"><div class=\"sk-text-repr-fallback\"><pre>KMeans(n_clusters=3)</pre><b>In a Jupyter environment, please rerun this cell to show the HTML representation or trust the notebook. <br />On GitHub, the HTML representation is unable to render, please try loading this page with nbviewer.org.</b></div><div class=\"sk-container\" hidden><div class=\"sk-item\"><div class=\"sk-estimator sk-toggleable\"><input class=\"sk-toggleable__control sk-hidden--visually\" id=\"sk-estimator-id-12\" type=\"checkbox\" checked><label for=\"sk-estimator-id-12\" class=\"sk-toggleable__label sk-toggleable__label-arrow\">KMeans</label><div class=\"sk-toggleable__content\"><pre>KMeans(n_clusters=3)</pre></div></div></div></div></div>"
      ],
      "text/plain": [
       "KMeans(n_clusters=3)"
      ]
     },
     "execution_count": 201,
     "metadata": {},
     "output_type": "execute_result"
    }
   ],
   "source": [
    "km = KMeans(n_clusters=3)\n",
    "km"
   ]
  },
  {
   "cell_type": "code",
   "execution_count": 202,
   "id": "e14dbe7d",
   "metadata": {},
   "outputs": [
    {
     "name": "stderr",
     "output_type": "stream",
     "text": [
      "C:\\Users\\ajiah\\AppData\\Local\\Packages\\PythonSoftwareFoundation.Python.3.9_qbz5n2kfra8p0\\LocalCache\\local-packages\\Python39\\site-packages\\sklearn\\cluster\\_kmeans.py:870: FutureWarning: The default value of `n_init` will change from 10 to 'auto' in 1.4. Set the value of `n_init` explicitly to suppress the warning\n",
      "  warnings.warn(\n"
     ]
    },
    {
     "data": {
      "text/plain": [
       "array([1, 0, 0, 0, 0, 0, 0, 0, 0, 0, 2, 2, 0, 1])"
      ]
     },
     "execution_count": 202,
     "metadata": {},
     "output_type": "execute_result"
    }
   ],
   "source": [
    "y_predicted = km.fit_predict(df[[2019,2020]])\n",
    "y_predicted"
   ]
  },
  {
   "cell_type": "code",
   "execution_count": 203,
   "id": "da7575e7",
   "metadata": {},
   "outputs": [
    {
     "data": {
      "text/html": [
       "<div>\n",
       "<style scoped>\n",
       "    .dataframe tbody tr th:only-of-type {\n",
       "        vertical-align: middle;\n",
       "    }\n",
       "\n",
       "    .dataframe tbody tr th {\n",
       "        vertical-align: top;\n",
       "    }\n",
       "\n",
       "    .dataframe thead th {\n",
       "        text-align: right;\n",
       "    }\n",
       "</style>\n",
       "<table border=\"1\" class=\"dataframe\">\n",
       "  <thead>\n",
       "    <tr style=\"text-align: right;\">\n",
       "      <th></th>\n",
       "      <th>Koridor</th>\n",
       "      <th>2019</th>\n",
       "      <th>2020</th>\n",
       "      <th>cluster</th>\n",
       "    </tr>\n",
       "  </thead>\n",
       "  <tbody>\n",
       "    <tr>\n",
       "      <th>0</th>\n",
       "      <td>Koridor I (Blok M-Kota)</td>\n",
       "      <td>28703262</td>\n",
       "      <td>13114712</td>\n",
       "      <td>1</td>\n",
       "    </tr>\n",
       "    <tr>\n",
       "      <th>1</th>\n",
       "      <td>Koridor II (Pulo Gadung-Harmoni)</td>\n",
       "      <td>9569953</td>\n",
       "      <td>4788613</td>\n",
       "      <td>0</td>\n",
       "    </tr>\n",
       "    <tr>\n",
       "      <th>2</th>\n",
       "      <td>Koridor III (Kalideres-Pasar Baru)</td>\n",
       "      <td>12809507</td>\n",
       "      <td>6685591</td>\n",
       "      <td>0</td>\n",
       "    </tr>\n",
       "    <tr>\n",
       "      <th>3</th>\n",
       "      <td>Koridor IV (Pulo Gadung 2-Dukuh Atas)</td>\n",
       "      <td>9221017</td>\n",
       "      <td>4103583</td>\n",
       "      <td>0</td>\n",
       "    </tr>\n",
       "    <tr>\n",
       "      <th>4</th>\n",
       "      <td>Koridor V (Kp. Melayu-Ancol)</td>\n",
       "      <td>12329691</td>\n",
       "      <td>5959530</td>\n",
       "      <td>0</td>\n",
       "    </tr>\n",
       "    <tr>\n",
       "      <th>5</th>\n",
       "      <td>Koridor VI (Ragunan-Dukuh Atas 2)</td>\n",
       "      <td>12051594</td>\n",
       "      <td>5526020</td>\n",
       "      <td>0</td>\n",
       "    </tr>\n",
       "    <tr>\n",
       "      <th>6</th>\n",
       "      <td>Koridor VII (Kp. Rambutan-Kp. Melayu)</td>\n",
       "      <td>11558274</td>\n",
       "      <td>5330683</td>\n",
       "      <td>0</td>\n",
       "    </tr>\n",
       "    <tr>\n",
       "      <th>7</th>\n",
       "      <td>Koridor VIII (Lebak Bulus-Harmoni)</td>\n",
       "      <td>12504656</td>\n",
       "      <td>6288549</td>\n",
       "      <td>0</td>\n",
       "    </tr>\n",
       "    <tr>\n",
       "      <th>8</th>\n",
       "      <td>Koridor IX (Pinang Ranti-Pluit)</td>\n",
       "      <td>17527958</td>\n",
       "      <td>6288549</td>\n",
       "      <td>0</td>\n",
       "    </tr>\n",
       "    <tr>\n",
       "      <th>9</th>\n",
       "      <td>Koridor X (PGC 2-Tanjung Priok)</td>\n",
       "      <td>9960874</td>\n",
       "      <td>5545169</td>\n",
       "      <td>0</td>\n",
       "    </tr>\n",
       "    <tr>\n",
       "      <th>10</th>\n",
       "      <td>Koridor XI (Kp. Melayu-Pulo Gebang)</td>\n",
       "      <td>3875702</td>\n",
       "      <td>2040909</td>\n",
       "      <td>2</td>\n",
       "    </tr>\n",
       "    <tr>\n",
       "      <th>11</th>\n",
       "      <td>Koridor XII (Penjaringan-Tanjung Priok)</td>\n",
       "      <td>3012110</td>\n",
       "      <td>1898532</td>\n",
       "      <td>2</td>\n",
       "    </tr>\n",
       "    <tr>\n",
       "      <th>12</th>\n",
       "      <td>Koridor XIII (Puri Beta-Tendean)</td>\n",
       "      <td>8825641</td>\n",
       "      <td>4289675</td>\n",
       "      <td>0</td>\n",
       "    </tr>\n",
       "    <tr>\n",
       "      <th>13</th>\n",
       "      <td>Jumlah</td>\n",
       "      <td>37528903</td>\n",
       "      <td>17404387</td>\n",
       "      <td>1</td>\n",
       "    </tr>\n",
       "  </tbody>\n",
       "</table>\n",
       "</div>"
      ],
      "text/plain": [
       "                                    Koridor      2019      2020  cluster\n",
       "0                   Koridor I (Blok M-Kota)  28703262  13114712        1\n",
       "1          Koridor II (Pulo Gadung-Harmoni)   9569953   4788613        0\n",
       "2        Koridor III (Kalideres-Pasar Baru)  12809507   6685591        0\n",
       "3     Koridor IV (Pulo Gadung 2-Dukuh Atas)   9221017   4103583        0\n",
       "4              Koridor V (Kp. Melayu-Ancol)  12329691   5959530        0\n",
       "5         Koridor VI (Ragunan-Dukuh Atas 2)  12051594   5526020        0\n",
       "6     Koridor VII (Kp. Rambutan-Kp. Melayu)  11558274   5330683        0\n",
       "7        Koridor VIII (Lebak Bulus-Harmoni)  12504656   6288549        0\n",
       "8           Koridor IX (Pinang Ranti-Pluit)  17527958   6288549        0\n",
       "9           Koridor X (PGC 2-Tanjung Priok)   9960874   5545169        0\n",
       "10      Koridor XI (Kp. Melayu-Pulo Gebang)   3875702   2040909        2\n",
       "11  Koridor XII (Penjaringan-Tanjung Priok)   3012110   1898532        2\n",
       "12         Koridor XIII (Puri Beta-Tendean)   8825641   4289675        0\n",
       "13                                   Jumlah  37528903  17404387        1"
      ]
     },
     "execution_count": 203,
     "metadata": {},
     "output_type": "execute_result"
    }
   ],
   "source": [
    "df['cluster'] = y_predicted\n",
    "df.head(15)"
   ]
  },
  {
   "cell_type": "code",
   "execution_count": 204,
   "id": "f76ea340",
   "metadata": {},
   "outputs": [
    {
     "data": {
      "text/plain": [
       "<matplotlib.legend.Legend at 0x26eb81758b0>"
      ]
     },
     "execution_count": 204,
     "metadata": {},
     "output_type": "execute_result"
    },
    {
     "data": {
      "image/png": "[encoded data removed]",
      "text/plain": [
       "<Figure size 432x288 with 1 Axes>"
      ]
     },
     "metadata": {
      "needs_background": "light"
     },
     "output_type": "display_data"
    }
   ],
   "source": [
    "df1 = df[df.cluster==0]\n",
    "df2 = df[df.cluster==1]\n",
    "df3 = df[df.cluster==2]\n",
    "\n",
    "plt.scatter(df1[2019], df1[2020], color= 'blue', label='cluster 0')\n",
    "plt.scatter(df2[2019], df2[2020], color= 'green', label ='cluster 1')\n",
    "plt.scatter(df3[2019], df3[2020], color= 'orange', label ='cluster 2')\n",
    "\n",
    "plt.xlabel(2019)\n",
    "plt.ylabel(2020)\n",
    "plt.legend()"
   ]
  },
  {
   "cell_type": "code",
   "execution_count": 219,
   "id": "10b6ade3",
   "metadata": {},
   "outputs": [],
   "source": [
    "scaler = MinMaxScaler()\n",
    "scaler.fit(df[[2020]])\n",
    "df[2020] = scaler.transform(df[[2020]])\n",
    "\n",
    "scaler.fit(df[[2019]])\n",
    "df[2019] = scaler.transform(df[[2019]])\n"
   ]
  },
  {
   "cell_type": "code",
   "execution_count": 206,
   "id": "a5154056",
   "metadata": {},
   "outputs": [
    {
     "name": "stdout",
     "output_type": "stream",
     "text": [
      "                                    Koridor      2019      2020  cluster\n",
      "0                   Koridor I (Blok M-Kota)  0.744309  0.723351        1\n",
      "1          Koridor II (Pulo Gadung-Harmoni)  0.189990  0.186386        0\n",
      "2        Koridor III (Kalideres-Pasar Baru)  0.283844  0.308726        0\n",
      "3     Koridor IV (Pulo Gadung 2-Dukuh Atas)  0.179881  0.142208        0\n",
      "4              Koridor V (Kp. Melayu-Ancol)  0.269943  0.261901        0\n",
      "5         Koridor VI (Ragunan-Dukuh Atas 2)  0.261887  0.233943        0\n",
      "6     Koridor VII (Kp. Rambutan-Kp. Melayu)  0.247594  0.221345        0\n",
      "7        Koridor VIII (Lebak Bulus-Harmoni)  0.275012  0.283120        0\n",
      "8           Koridor IX (Pinang Ranti-Pluit)  0.420545  0.283120        0\n",
      "9           Koridor X (PGC 2-Tanjung Priok)  0.201315  0.235178        0\n",
      "10      Koridor XI (Kp. Melayu-Pulo Gebang)  0.025019  0.009182        2\n",
      "11  Koridor XII (Penjaringan-Tanjung Priok)  0.000000  0.000000        2\n",
      "12         Koridor XIII (Puri Beta-Tendean)  0.168426  0.154209        0\n",
      "13                                   Jumlah  1.000000  1.000000        1\n"
     ]
    }
   ],
   "source": [
    "scaler = np.array(df)\n",
    "print(df)"
   ]
  },
  {
   "cell_type": "code",
   "execution_count": 207,
   "id": "e897cc18",
   "metadata": {},
   "outputs": [
    {
     "data": {
      "text/plain": [
       "array([[0.01250974, 0.00459107],\n",
       "       [0.87215439, 0.86167564],\n",
       "       [0.24984379, 0.23101365]])"
      ]
     },
     "execution_count": 207,
     "metadata": {},
     "output_type": "execute_result"
    }
   ],
   "source": [
    "km.cluster_centers_"
   ]
  },
  {
   "cell_type": "code",
   "execution_count": 208,
   "id": "3c7a951b",
   "metadata": {},
   "outputs": [
    {
     "data": {
      "text/plain": [
       "array([1, 2, 2, 2, 2, 2, 2, 2, 2, 2, 0, 0, 2, 1])"
      ]
     },
     "execution_count": 208,
     "metadata": {},
     "output_type": "execute_result"
    }
   ],
   "source": [
    "km.labels_"
   ]
  },
  {
   "cell_type": "code",
   "execution_count": 209,
   "id": "06e5918a",
   "metadata": {},
   "outputs": [
    {
     "data": {
      "text/plain": [
       "<matplotlib.legend.Legend at 0x26eb80aaa00>"
      ]
     },
     "execution_count": 209,
     "metadata": {},
     "output_type": "execute_result"
    },
    {
     "data": {
      "image/png": "[encoded data removed]",
      "text/plain": [
       "<Figure size 432x288 with 1 Axes>"
      ]
     },
     "metadata": {
      "needs_background": "light"
     },
     "output_type": "display_data"
    }
   ],
   "source": [
    "df1 = df[df.cluster==0]\n",
    "df2 = df[df.cluster==1]\n",
    "df3 = df[df.cluster==2]\n",
    "\n",
    "plt.scatter(df1[2019], df1[2020], color= 'blue', label='cluster 0')\n",
    "plt.scatter(df2[2019], df2[2020], color= 'green', label ='cluster 1')\n",
    "plt.scatter(df3[2019], df3[2020], color= 'orange', label ='cluster 2')\n",
    "\n",
    "plt.scatter(km.cluster_centers_[:,0],km.cluster_centers_[:,1], color='black', marker='*', label='centroid')\n",
    "plt.legend()"
   ]
  },
  {
   "cell_type": "code",
   "execution_count": 210,
   "id": "12f9d206",
   "metadata": {},
   "outputs": [
    {
     "data": {
      "text/plain": [
       "[1.8447407001647473,\n",
       " 0.32789905291320276,\n",
       " 0.14857465411823462,\n",
       " 0.07761839523824424,\n",
       " 0.03154044653805918,\n",
       " 0.011716502790229085,\n",
       " 0.004952287423916389,\n",
       " 0.0030116278870368995,\n",
       " 0.0018727208536121133,\n",
       " 0.0009122175255477222,\n",
       " 0.0005570746014778649,\n",
       " 0.0003191039725068804]"
      ]
     },
     "execution_count": 210,
     "metadata": {},
     "output_type": "execute_result"
    }
   ],
   "source": [
    "k_rng = range(1,13)\n",
    "\n",
    "sse\n"
   ]
  },
  {
   "cell_type": "code",
   "execution_count": 211,
   "id": "b35f0bff",
   "metadata": {},
   "outputs": [
    {
     "data": {
      "image/png": "[encoded data removed]",
      "text/plain": [
       "<Figure size 432x288 with 1 Axes>"
      ]
     },
     "metadata": {
      "needs_background": "light"
     },
     "output_type": "display_data"
    }
   ],
   "source": [
    "plt.xlabel('K')\n",
    "plt.ylabel('Sum Of Squared Error')\n",
    "plt.plot(k_rng, sse)\n",
    "plt.grid()"
   ]
  },
  {
   "cell_type": "code",
   "execution_count": 212,
   "id": "b7a2ba80",
   "metadata": {},
   "outputs": [],
   "source": [
    "selected_cols = [2019, 2020]\n",
    "cluster_data = df.loc[:, selected_cols]\n",
    "\n",
    "kmeans_sel = KMeans(init='k-means++', n_clusters=3, n_init=100, random_state=2).fit(cluster_data)\n",
    "labels = pd.DataFrame(kmeans_sel.labels_)\n",
    "clustered_data = cluster_data.assign(Cluster=labels)"
   ]
  },
  {
   "cell_type": "code",
   "execution_count": 213,
   "id": "35e205ee",
   "metadata": {},
   "outputs": [
    {
     "data": {
      "text/html": [
       "<div>\n",
       "<style scoped>\n",
       "    .dataframe tbody tr th:only-of-type {\n",
       "        vertical-align: middle;\n",
       "    }\n",
       "\n",
       "    .dataframe tbody tr th {\n",
       "        vertical-align: top;\n",
       "    }\n",
       "\n",
       "    .dataframe thead th {\n",
       "        text-align: right;\n",
       "    }\n",
       "</style>\n",
       "<table border=\"1\" class=\"dataframe\">\n",
       "  <thead>\n",
       "    <tr style=\"text-align: right;\">\n",
       "      <th></th>\n",
       "      <th>2019</th>\n",
       "      <th>2020</th>\n",
       "    </tr>\n",
       "    <tr>\n",
       "      <th>Cluster</th>\n",
       "      <th></th>\n",
       "      <th></th>\n",
       "    </tr>\n",
       "  </thead>\n",
       "  <tbody>\n",
       "    <tr>\n",
       "      <th>0</th>\n",
       "      <td>0.0</td>\n",
       "      <td>0.0</td>\n",
       "    </tr>\n",
       "    <tr>\n",
       "      <th>1</th>\n",
       "      <td>0.9</td>\n",
       "      <td>0.9</td>\n",
       "    </tr>\n",
       "    <tr>\n",
       "      <th>2</th>\n",
       "      <td>0.2</td>\n",
       "      <td>0.2</td>\n",
       "    </tr>\n",
       "  </tbody>\n",
       "</table>\n",
       "</div>"
      ],
      "text/plain": [
       "         2019  2020\n",
       "Cluster            \n",
       "0         0.0   0.0\n",
       "1         0.9   0.9\n",
       "2         0.2   0.2"
      ]
     },
     "execution_count": 213,
     "metadata": {},
     "output_type": "execute_result"
    }
   ],
   "source": [
    "grouped_km = clustered_data.groupby(['Cluster']).mean().round(1)\n",
    "grouped_km"
   ]
  }
 ],
 "metadata": {
  "kernelspec": {
   "display_name": "Python 3 (ipykernel)",
   "language": "python",
   "name": "python3"
  },
  "language_info": {
   "codemirror_mode": {
    "name": "ipython",
    "version": 3
   },
   "file_extension": ".py",
   "mimetype": "text/x-python",
   "name": "python",
   "nbconvert_exporter": "python",
   "pygments_lexer": "ipython3",
   "version": "3.9.7"
  },
  "vscode": {
   "interpreter": {
    "hash": "1ac022d970f8ee515829c236b57a6fd2a1c5edc53eb118b3b23fa3f8453ac393"
   }
  }
 },
 "nbformat": 4,
 "nbformat_minor": 5
}
